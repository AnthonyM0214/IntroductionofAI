{
 "cells": [
  {
   "cell_type": "code",
   "execution_count": 24,
   "metadata": {},
   "outputs": [
    {
     "name": "stdout",
     "output_type": "stream",
     "text": [
      "           0           1           2           3           4           5   \\\n",
      "0 -196.987631 -181.876308 -168.901998 -134.963844 -186.702188 -118.604186   \n",
      "1 -171.853812 -195.613004 -198.596413 -199.957399 -196.481166 -196.975785   \n",
      "2 -178.094241 -123.324607 -167.445026 -191.305236  -97.413089 -133.178010   \n",
      "\n",
      "           6           7           8           9           10          11  \\\n",
      "0 -135.089439 -194.586108 -200.000000 -199.540438 -199.795433 -200.000000   \n",
      "1 -199.765919 -184.315247 -164.332287 -174.055605 -176.470404 -177.591480   \n",
      "2 -196.164398 -137.185864 -199.052356 -191.030366 -194.534555 -199.169634   \n",
      "\n",
      "           12    0   \n",
      "0 -200.000000  1083  \n",
      "1 -172.667265  2196  \n",
      "2 -199.945550  1912  \n",
      "        b3001       b3002       b3003       b3004       b3005       b3006  \\\n",
      "0 -196.987631 -181.876308 -168.901998 -134.963844 -186.702188 -118.604186   \n",
      "1 -171.853812 -195.613004 -198.596413 -199.957399 -196.481166 -196.975785   \n",
      "2 -178.094241 -123.324607 -167.445026 -191.305236  -97.413089 -133.178010   \n",
      "\n",
      "        b3007       b3008       b3009       b3010       b3011       b3012  \\\n",
      "0 -135.089439 -194.586108 -200.000000 -199.540438 -199.795433 -200.000000   \n",
      "1 -199.765919 -184.315247 -164.332287 -174.055605 -176.470404 -177.591480   \n",
      "2 -196.164398 -137.185864 -199.052356 -191.030366 -194.534555 -199.169634   \n",
      "\n",
      "        b3013  类别数目  \n",
      "0 -200.000000  1083  \n",
      "1 -172.667265  2196  \n",
      "2 -199.945550  1912  \n"
     ]
    }
   ],
   "source": [
    "import pandas as pd\n",
    "\n",
    "#参数初始化\n",
    "inputfile = './BLE_RSSI_dataset/iBeacon_RSSI_UnLabeled.csv' #销量及其他属性数据\n",
    "outputfile = './BLE_RSSI_dataset/iBeacon_RSSI_PreLabeled.csv' #保存结果的文件名\n",
    "k = 3 #聚类的类别\n",
    "iteration = 3 #聚类最大循环次数\n",
    "data = pd.read_csv(inputfile) #读取数据\n",
    "#data_zs = 1.0*(data - data.mean())/data.std() #数据标准化，std()表示求总体样本方差(除以n-1),numpy中std()是除以n\n",
    "#print(data_zs)\n",
    "data = data.drop(columns=['location','date'])\n",
    "\n",
    "from sklearn.cluster import KMeans\n",
    "model = KMeans(n_clusters = k, max_iter = iteration) #分为k类\n",
    "#model = KMeans(n_clusters = k, n_jobs = 4, max_iter = iteration) #分为k类，并发数4\n",
    "model.fit(data) #开始聚类\n",
    "\n",
    "#简单打印结果\n",
    "r1 = pd.Series(model.labels_).value_counts() #统计各个类别的数目\n",
    "r2 = pd.DataFrame(model.cluster_centers_) #找出聚类中心\n",
    "r = pd.concat([r2, r1], axis = 1) #横向连接（0是纵向），得到聚类中心对应的类别下的数目\n",
    "print(r)\n",
    "r.columns = list(data.columns) + [u'类别数目'] #重命名表头\n",
    "print(r)\n",
    "\n",
    "#详细输出原始数据及其类别\n",
    "r = pd.concat([data, pd.Series(model.labels_, index = data.index)], axis = 1)  #详细输出每个样本对应的类别\n",
    "r.columns = list(data.columns) + [u'聚类类别'] #重命名表头\n",
    "#r.to_excel(outputfile) #保存结果"
   ]
  },
  {
   "cell_type": "code",
   "execution_count": null,
   "metadata": {},
   "outputs": [],
   "source": [
    "#用TSNE进行数据降维并展示聚类结果\n",
    "from sklearn.manifold import TSNE\n",
    "tsne = TSNE()\n",
    "tsne.fit_transform(data) #进行数据降维,并返回结果\n",
    "tsne = pd.DataFrame(tsne.embedding_, index = data.index) #转换数据格式\n",
    "\n",
    "import matplotlib.pyplot as plt\n",
    "plt.rcParams['font.sans-serif'] = ['SimHei'] #用来正常显示中文标签\n",
    "plt.rcParams['axes.unicode_minus'] = False #用来正常显示负号\n",
    "\n",
    "#不同类别用不同颜色和样式绘图\n",
    "d = tsne[r[u'聚类类别'] == 0]     #找出聚类类别为0的数据对应的降维结果\n",
    "plt.plot(d[0], d[1], 'r.')\n",
    "d = tsne[r[u'聚类类别'] == 1]\n",
    "plt.plot(d[0], d[1], 'go')\n",
    "d = tsne[r[u'聚类类别'] == 2]\n",
    "plt.plot(d[0], d[1], 'b*')\n",
    "plt.show()"
   ]
  },
  {
   "cell_type": "code",
   "execution_count": null,
   "metadata": {},
   "outputs": [],
   "source": []
  },
  {
   "cell_type": "code",
   "execution_count": null,
   "metadata": {},
   "outputs": [],
   "source": []
  }
 ],
 "metadata": {
  "kernelspec": {
   "display_name": "Python 3",
   "language": "python",
   "name": "python3"
  },
  "language_info": {
   "codemirror_mode": {
    "name": "ipython",
    "version": 3
   },
   "file_extension": ".py",
   "mimetype": "text/x-python",
   "name": "python",
   "nbconvert_exporter": "python",
   "pygments_lexer": "ipython3",
   "version": "3.7.1"
  }
 },
 "nbformat": 4,
 "nbformat_minor": 2
}
