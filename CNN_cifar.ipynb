{
 "cells": [
  {
   "cell_type": "code",
   "execution_count": 13,
   "metadata": {
    "collapsed": true
   },
   "outputs": [],
   "source": [
    "import numpy\n",
    "from keras.datasets import cifar10\n",
    "from keras.models import Sequential\n",
    "from keras.layers import Dense, Dropout, Activation, Flatten\n",
    "from keras.layers import Conv2D, MaxPooling2D, ZeroPadding2D\n",
    "import numpy as np"
   ]
  },
  {
   "cell_type": "code",
   "execution_count": 14,
   "metadata": {},
   "outputs": [],
   "source": [
    "#读取数据\n",
    "(x_img_train,y_label_train),(x_img_test, y_label_test)=cifar10.load_data()"
   ]
  },
  {
   "cell_type": "code",
   "execution_count": 15,
   "metadata": {},
   "outputs": [],
   "source": [
    "#标准化图集\n",
    "x_img_train_normalize = x_img_train.astype('float32') / 255.0\n",
    "x_img_test_normalize = x_img_test.astype('float32') / 255.0"
   ]
  },
  {
   "cell_type": "code",
   "execution_count": 18,
   "metadata": {
    "collapsed": true
   },
   "outputs": [],
   "source": [
    "#将标签处理成 one-hot 向量\n",
    "from keras.utils import np_utils\n",
    "y_label_train_OneHot = np_utils.to_categorical(y_label_train)\n",
    "y_label_test_OneHot = np_utils.to_categorical(y_label_test)"
   ]
  },
  {
   "cell_type": "code",
   "execution_count": 19,
   "metadata": {
    "collapsed": true
   },
   "outputs": [],
   "source": [
    "#搭建模型\n",
    "model = Sequential()\n",
    "#卷积层和池化层\n",
    "model.add(Conv2D(filters=32,kernel_size=(3,3),input_shape=(32, 32,3), activation='relu', padding='same'))\n",
    "model.add(Dropout(rate=0.25))\n",
    "model.add(MaxPooling2D(pool_size=(2, 2)))\n",
    "#卷积层和池化层\n",
    "model.add(Conv2D(filters=64, kernel_size=(3, 3), activation='relu', padding='same'))\n",
    "model.add(Dropout(0.25))\n",
    "model.add(MaxPooling2D(pool_size=(2, 2))) \n",
    "#建立神经网络\n",
    "model.add(Flatten()) \n",
    "model.add(Dropout(rate=0.25))\n",
    "model.add(Dense(1024, activation='relu')) \n",
    "model.add(Dropout(rate=0.25))\n",
    "model.add(Dense(10, activation='softmax')) "
   ]
  },
  {
   "cell_type": "code",
   "execution_count": 20,
   "metadata": {},
   "outputs": [
    {
     "name": "stdout",
     "output_type": "stream",
     "text": [
      "Train on 40000 samples, validate on 10000 samples\n",
      "Epoch 1/10\n",
      "40000/40000 [==============================] - 205s 5ms/step - loss: 1.5790 - acc: 0.4284 - val_loss: 1.3745 - val_acc: 0.5600\n",
      "Epoch 2/10\n",
      "40000/40000 [==============================] - 185s 5ms/step - loss: 1.2084 - acc: 0.5674 - val_loss: 1.1873 - val_acc: 0.6199\n",
      "Epoch 3/10\n",
      "40000/40000 [==============================] - 208s 5ms/step - loss: 1.0648 - acc: 0.6262 - val_loss: 1.0730 - val_acc: 0.6533\n",
      "Epoch 4/10\n",
      "40000/40000 [==============================] - 196s 5ms/step - loss: 0.9458 - acc: 0.6672 - val_loss: 0.9982 - val_acc: 0.6813\n",
      "Epoch 5/10\n",
      "40000/40000 [==============================] - 165s 4ms/step - loss: 0.8556 - acc: 0.6980 - val_loss: 0.9270 - val_acc: 0.6993\n",
      "Epoch 6/10\n",
      "40000/40000 [==============================] - 159s 4ms/step - loss: 0.7741 - acc: 0.7292 - val_loss: 0.8993 - val_acc: 0.7100\n",
      "Epoch 7/10\n",
      "40000/40000 [==============================] - 158s 4ms/step - loss: 0.6927 - acc: 0.7569 - val_loss: 0.8827 - val_acc: 0.6959\n",
      "Epoch 8/10\n",
      "40000/40000 [==============================] - 158s 4ms/step - loss: 0.6133 - acc: 0.7823 - val_loss: 0.8323 - val_acc: 0.7206\n",
      "Epoch 9/10\n",
      "40000/40000 [==============================] - 158s 4ms/step - loss: 0.5542 - acc: 0.8055 - val_loss: 0.8378 - val_acc: 0.7178\n",
      "Epoch 10/10\n",
      "40000/40000 [==============================] - 158s 4ms/step - loss: 0.4879 - acc: 0.8292 - val_loss: 0.7960 - val_acc: 0.7278\n"
     ]
    }
   ],
   "source": [
    "#训练模型\n",
    "model.compile(loss='categorical_crossentropy',optimizer='adam', metrics=['accuracy'])\n",
    "training=model.fit(x_img_train_normalize, y_label_train_OneHot,validation_split=0.2,epochs=10, batch_size=128, verbose=1) "
   ]
  },
  {
   "cell_type": "code",
   "execution_count": 25,
   "metadata": {},
   "outputs": [
    {
     "name": "stdout",
     "output_type": "stream",
     "text": [
      "[0.8069150501251221, 0.72189999999999999]\n"
     ]
    }
   ],
   "source": [
    "#模型评估\n",
    "scores = model.evaluate(x_img_test_normalize, y_label_test_OneHot, verbose=0)\n",
    "print(scores)"
   ]
  },
  {
   "cell_type": "code",
   "execution_count": null,
   "metadata": {
    "collapsed": true
   },
   "outputs": [],
   "source": []
  },
  {
   "cell_type": "code",
   "execution_count": null,
   "metadata": {
    "collapsed": true
   },
   "outputs": [],
   "source": []
  },
  {
   "cell_type": "code",
   "execution_count": null,
   "metadata": {
    "collapsed": true
   },
   "outputs": [],
   "source": []
  },
  {
   "cell_type": "code",
   "execution_count": null,
   "metadata": {
    "collapsed": true
   },
   "outputs": [],
   "source": []
  }
 ],
 "metadata": {
  "kernelspec": {
   "display_name": "Python 3",
   "language": "python",
   "name": "python3"
  },
  "language_info": {
   "codemirror_mode": {
    "name": "ipython",
    "version": 3
   },
   "file_extension": ".py",
   "mimetype": "text/x-python",
   "name": "python",
   "nbconvert_exporter": "python",
   "pygments_lexer": "ipython3",
   "version": "3.6.8"
  }
 },
 "nbformat": 4,
 "nbformat_minor": 2
}
