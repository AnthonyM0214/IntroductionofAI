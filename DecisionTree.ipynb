{
 "cells": [
  {
   "cell_type": "code",
   "execution_count": 11,
   "metadata": {},
   "outputs": [
    {
     "ename": "ModuleNotFoundError",
     "evalue": "No module named 'graphviz'",
     "output_type": "error",
     "traceback": [
      "\u001b[0;31m---------------------------------------------------------------------------\u001b[0m",
      "\u001b[0;31mModuleNotFoundError\u001b[0m                       Traceback (most recent call last)",
      "\u001b[0;32m<ipython-input-11-c8569487fc36>\u001b[0m in \u001b[0;36m<module>\u001b[0;34m\u001b[0m\n\u001b[1;32m      2\u001b[0m \u001b[0;32mfrom\u001b[0m \u001b[0msklearn\u001b[0m \u001b[0;32mimport\u001b[0m \u001b[0mtree\u001b[0m\u001b[0;34m\u001b[0m\u001b[0;34m\u001b[0m\u001b[0m\n\u001b[1;32m      3\u001b[0m \u001b[0;32mfrom\u001b[0m \u001b[0msklearn\u001b[0m\u001b[0;34m.\u001b[0m\u001b[0mmodel_selection\u001b[0m \u001b[0;32mimport\u001b[0m \u001b[0mtrain_test_split\u001b[0m\u001b[0;34m\u001b[0m\u001b[0;34m\u001b[0m\u001b[0m\n\u001b[0;32m----> 4\u001b[0;31m \u001b[0;32mimport\u001b[0m \u001b[0mgraphviz\u001b[0m\u001b[0;34m\u001b[0m\u001b[0;34m\u001b[0m\u001b[0m\n\u001b[0m\u001b[1;32m      5\u001b[0m \u001b[0;34m\u001b[0m\u001b[0m\n\u001b[1;32m      6\u001b[0m \u001b[0mdata\u001b[0m \u001b[0;34m=\u001b[0m \u001b[0mpd\u001b[0m\u001b[0;34m.\u001b[0m\u001b[0mread_csv\u001b[0m\u001b[0;34m(\u001b[0m\u001b[0;34m\"./BLE_RSSI_dataset/iBeacon_RSSI_Labeled.csv\"\u001b[0m\u001b[0;34m)\u001b[0m\u001b[0;34m\u001b[0m\u001b[0;34m\u001b[0m\u001b[0m\n",
      "\u001b[0;31mModuleNotFoundError\u001b[0m: No module named 'graphviz'"
     ]
    }
   ],
   "source": [
    "import pandas as pd\n",
    "from sklearn import tree\n",
    "from sklearn.model_selection import train_test_split\n",
    "\n",
    "data = pd.read_csv(\"./BLE_RSSI_dataset/iBeacon_RSSI_Labeled.csv\")\n",
    "data.head()"
   ]
  },
  {
   "cell_type": "code",
   "execution_count": 5,
   "metadata": {},
   "outputs": [],
   "source": [
    "#drop Time\n",
    "newdata = data.drop(columns=['date']);\n",
    "newdata.head()\n",
    "train_data=newdata[['b3001','b3002','b3003','b3004','b3005','b3006','b3007','b3008','b3009','b3010','b3011','b3012','b3013',]]\n",
    "train_target=newdata[['location']]"
   ]
  },
  {
   "cell_type": "code",
   "execution_count": 12,
   "metadata": {},
   "outputs": [
    {
     "name": "stdout",
     "output_type": "stream",
     "text": [
      "['S07' 'S01' 'J07' 'J04' 'R01' 'R05' 'U05' 'S06' 'L03' 'D14' 'I08' 'J04'\n",
      " 'R04' 'J02' 'J02' 'P05' 'U05' 'P04' 'J04' 'K03' 'U05' 'U05' 'Q05' 'I15'\n",
      " 'J05' 'R05' 'Q05' 'Q05' 'I06' 'N15' 'I07' 'R01' 'G15' 'P01' 'S07' 'J04'\n",
      " 'R05' 'S01' 'W15' 'P01' 'U05' 'D15' 'I06' 'J04' 'O05' 'I04' 'P01' 'I04'\n",
      " 'L02' 'P01' 'I05' 'M01' 'O06' 'O04' 'D15' 'J02' 'U05' 'K02' 'N15' 'S04'\n",
      " 'O05' 'J06' 'K06' 'S01' 'J04' 'J02' 'R03' 'D13' 'T15' 'K03' 'M06' 'M06'\n",
      " 'M02' 'L15' 'R06' 'J02' 'J04' 'J06' 'K03' 'I06' 'Q03' 'L05' 'K04' 'I07'\n",
      " 'K03' 'J02' 'U15' 'J07' 'M02' 'J04' 'Q04' 'T04' 'S05' 'J07' 'P01' 'M06'\n",
      " 'J04' 'M02' 'I04' 'J07' 'J02' 'R15' 'J02' 'J04' 'M02' 'K05' 'O04' 'P01'\n",
      " 'O05' 'T04' 'I02' 'P04' 'M06' 'T04' 'K05' 'I08' 'J01' 'K06' 'M01' 'N06'\n",
      " 'I08' 'P01' 'P01' 'P01' 'L04' 'I01' 'K08' 'O05' 'I08' 'L04' 'Q03' 'U01'\n",
      " 'R03' 'N06' 'K03' 'M02' 'S04' 'J04' 'L04' 'J04' 'J04' 'I08']\n",
      "     location\n",
      "676       S07\n",
      "296       S06\n",
      "713       K08\n",
      "1417      I01\n",
      "1003      T05\n",
      "1309      S01\n",
      "87        Q03\n",
      "1181      T04\n",
      "1262      L03\n",
      "539       D14\n",
      "518       I08\n",
      "830       I02\n",
      "129       R04\n",
      "535       K04\n",
      "56        K03\n",
      "256       P05\n",
      "1218      R03\n",
      "149       O04\n",
      "1409      I02\n",
      "1231      P03\n",
      "79        O03\n",
      "1227      Q03\n",
      "21        R02\n",
      "607       J15\n",
      "769       J05\n",
      "1027      Q05\n",
      "1207      S03\n",
      "637       S01\n",
      "811       I06\n",
      "611       N15\n",
      "...       ...\n",
      "853       I08\n",
      "1180      T04\n",
      "1410      J01\n",
      "829       I02\n",
      "982       P06\n",
      "939       K06\n",
      "1268      K03\n",
      "320       M06\n",
      "411       I08\n",
      "237       N05\n",
      "714       K08\n",
      "747       K01\n",
      "178       L04\n",
      "575       K05\n",
      "824       I03\n",
      "249       O05\n",
      "689       L09\n",
      "545       J07\n",
      "86        P03\n",
      "43        U01\n",
      "1002      T05\n",
      "307       O06\n",
      "414       I05\n",
      "487       M02\n",
      "661       S05\n",
      "460       I02\n",
      "7         P02\n",
      "48        J03\n",
      "200       I04\n",
      "422       I08\n",
      "\n",
      "[142 rows x 1 columns]\n"
     ]
    }
   ],
   "source": [
    "#划分训练集和测试集\n",
    "from sklearn.model_selection import train_test_split\n",
    "#X_train, X_test, Y_train, Y_test = train_test_split(train_data, train_target, random_state=1)\n",
    "dtc = tree.DecisionTreeClassifier(criterion=\"entropy\")\n",
    "X_train, X_test, Y_train, Y_test = train_test_split(train_data, train_target, test_size=0.1)\n",
    "clf = dtc.fit(X_train, Y_train)\n",
    "print(clf.predict(X_test))\n",
    "print(Y_test)\n"
   ]
  },
  {
   "cell_type": "code",
   "execution_count": 15,
   "metadata": {},
   "outputs": [],
   "source": [
    "#import graphviz\n",
    "dot_data = tree.export_graphviz(clf, out_file=None)\n",
    "#graph = graphviz.Source(dot_data)"
   ]
  },
  {
   "cell_type": "code",
   "execution_count": null,
   "metadata": {},
   "outputs": [],
   "source": []
  }
 ],
 "metadata": {
  "kernelspec": {
   "display_name": "Python 3",
   "language": "python",
   "name": "python3"
  },
  "language_info": {
   "codemirror_mode": {
    "name": "ipython",
    "version": 3
   },
   "file_extension": ".py",
   "mimetype": "text/x-python",
   "name": "python",
   "nbconvert_exporter": "python",
   "pygments_lexer": "ipython3",
   "version": "3.7.1"
  }
 },
 "nbformat": 4,
 "nbformat_minor": 2
}
